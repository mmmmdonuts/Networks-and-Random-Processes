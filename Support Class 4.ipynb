{
 "cells": [
  {
   "cell_type": "markdown",
   "metadata": {},
   "source": [
    "# Notebook for Problem sheet 2 - Q2.1\n"
   ]
  },
  {
   "cell_type": "markdown",
   "metadata": {},
   "source": [
    "### Kingman's Coalescent \n",
    "\n",
    "System of L coalescing (merging) particles. Each pair of particles (total number of pairs is $\\frac{L(L-1)}{2}$) coalesce independently at rate 1.\n",
    "\n",
    "Let $N_t$ be the number of particles at time t.\n",
    "\n",
    "**Transition rates (e.g g(n,m) for n,m in state space)**\n",
    "- recall from notes $g(x,x) = - \\sum_{y \\neq x} g(x,y)$\n",
    "\n",
    "**Generator**\n",
    "- every CTMC has a generator: $(G f)(x) = \\sum_{y \\in S, y \\neq x} g(x,y) [ f(y) - f(x) ]$\n",
    "\n",
    "**Waiting Times (holding time)**\n",
    "- For $X_0 = x$ define the waiting time $W_x := inf\\{ t>0 : X_t \\neq x \\}$ = first time you leave x\n",
    "- $W_x \\sim \\exp(g(x,x))$ with $\\mathbb{E}[W_x] = \\frac{1}{|g(x,x)|}$\n",
    "- if $|g(x,x)|>0$ then walk jumps to $y \\neq x$ after time $W_x$ with probability $\\frac{g(x,y)}{|g(x,x)|}$"
   ]
  },
  {
   "cell_type": "code",
   "execution_count": 2,
   "metadata": {},
   "outputs": [],
   "source": [
    "import numpy as np\n",
    "import matplotlib.pyplot as plt"
   ]
  },
  {
   "cell_type": "code",
   "execution_count": 9,
   "metadata": {},
   "outputs": [
    {
     "data": {
      "image/png": "[encoded data removed]",
      "text/plain": [
       "<Figure size 432x288 with 1 Axes>"
      ]
     },
     "metadata": {},
     "output_type": "display_data"
    }
   ],
   "source": [
    "# sample paths of the process (2.1 d)\n",
    "\n",
    "L=50\n",
    "\n",
    "##### Simulate and PLOT ####\n",
    "\n",
    "time=0.0 # initialize\n",
    "\n",
    "for n in range(L,1,-1):  \n",
    "    λ = n*(n-1)/2\n",
    "    β=1.0/λ # beta\n",
    "    waitTime=np.random.exponential(scale=β) # get a waiting time from exponential dist  \n",
    "\n",
    "    plt.plot([time,time+waitTime],[n/L,n/L],'r',lw=2) # plot a bit\n",
    "    \n",
    "    time+=waitTime # update time\n",
    "plt.plot([time,time+2*waitTime],[1/L,1/L],'r--', label = 'L = 20') # also add this line\n",
    "\n",
    "    \n",
    "LL = 10\n",
    "time=0.0 # initialize\n",
    "\n",
    "for n in range(LL,1,-1):  \n",
    "    λ = n*(n-1)/2\n",
    "    β=1.0/λ # beta\n",
    "    waitTime=np.random.exponential(scale=β) # get a waiting time from exponential dist  \n",
    "\n",
    "    plt.plot([time,time+waitTime],[n/LL,n/LL],'k',lw=2) # plot a bit\n",
    "    \n",
    "    time+=waitTime # update time\n",
    "\n",
    "plt.plot([time,time+2*waitTime],[1/LL,1/LL],'k--', label = 'L =10') # also add this line\n",
    "    \n",
    "plt.title('Kingmans Coalesent ')\n",
    "plt.legend()\n",
    "plt.xlabel('$t$')\n",
    "plt.ylabel('$N_t$')\n",
    "\n",
    "plt.yscale('linear') # linear y scale\n",
    "plt.xscale('log') # change to log x scale"
   ]
  },
  {
   "cell_type": "code",
   "execution_count": null,
   "metadata": {},
   "outputs": [],
   "source": []
  }
 ],
 "metadata": {
  "kernelspec": {
   "display_name": "Python 3",
   "language": "python",
   "name": "python3"
  },
  "language_info": {
   "codemirror_mode": {
    "name": "ipython",
    "version": 3
   },
   "file_extension": ".py",
   "mimetype": "text/x-python",
   "name": "python",
   "nbconvert_exporter": "python",
   "pygments_lexer": "ipython3",
   "version": "3.5.2"
  }
 },
 "nbformat": 4,
 "nbformat_minor": 2
}
